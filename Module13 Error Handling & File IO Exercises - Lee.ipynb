{
 "cells": [
  {
   "cell_type": "markdown",
   "metadata": {},
   "source": [
    "### Exercise 1\n",
    "Create a file called <b>exercise1.txt</b> and write following lines:\n",
    "\n",
    "    Twinkle, twinkle, little star,\n",
    "    How I wonder what you are.\n",
    "    Up above the world so high,\n",
    "    Like a diamond in the sky.\n",
    "    \n",
    "    \n",
    "Don't forget to close the file.        "
   ]
  },
  {
   "cell_type": "code",
   "execution_count": 3,
   "metadata": {},
   "outputs": [],
   "source": [
    "line1=\"Twinkle, twinkle, little star,\"\n",
    "line2=\"How I wonder what you are.\"\n",
    "line3=\"Up above the world so high,\"\n",
    "line4=\"Like a diamond in the sky.\"\n",
    "#FILE_PATH=\"C:/Users/chola/Desktop\" \n",
    "#out_file = open(FILE_PATH+'exercise1.txt', 'w')  \n",
    "out_file = open('exercise1.txt', 'w')  \n",
    "out_file.write(line1+\"\\n\")\n",
    "out_file.write(line2+\"\\n\")\n",
    "out_file.write(line3+\"\\n\")\n",
    "out_file.write(line4+\"\\n\")\n",
    "out_file.close()"
   ]
  },
  {
   "cell_type": "code",
   "execution_count": null,
   "metadata": {},
   "outputs": [],
   "source": []
  },
  {
   "cell_type": "markdown",
   "metadata": {},
   "source": [
    "### Exercise 2\n",
    "Append following lines to a file called <b>exercise1.txt</b>:\n",
    "\n",
    "    Twinkle, twinkle, little star,\n",
    "    How I wonder what you are.\n",
    "    \n",
    "Don't forget to close the file.    "
   ]
  },
  {
   "cell_type": "code",
   "execution_count": 4,
   "metadata": {},
   "outputs": [],
   "source": [
    "line5=\"Twinkle, twinkle, little star,\"\n",
    "line6=\"How I wonder what you are.\"\n",
    "#FILE_PATH=\"C:/Users/chola/Desktop\" \n",
    "#out_file = open(FILE_PATH+'exercise1.txt', 'a')  \n",
    "out_file = open('exercise1.txt', 'a') \n",
    "out_file.write(line5+\"\\n\")\n",
    "out_file.write(line6+\"\\n\")\n",
    "out_file.close()"
   ]
  },
  {
   "cell_type": "code",
   "execution_count": null,
   "metadata": {},
   "outputs": [],
   "source": []
  },
  {
   "cell_type": "markdown",
   "metadata": {},
   "source": [
    "### Exercise 3\n",
    "Read a file, <b>exercise1.txt</b> and print the content of the file using a loop.\n",
    "    \n",
    "Don't forget to close the file.    "
   ]
  },
  {
   "cell_type": "code",
   "execution_count": 20,
   "metadata": {},
   "outputs": [
    {
     "name": "stdout",
     "output_type": "stream",
     "text": [
      "Twinkle, twinkle, little star,\n",
      "\n",
      "How I wonder what you are.\n",
      "\n",
      "Up above the world so high,\n",
      "\n",
      "Like a diamond in the sky.\n",
      "\n",
      "Twinkle, twinkle, little star,\n",
      "\n",
      "How I wonder what you are.\n",
      "\n"
     ]
    }
   ],
   "source": [
    "#FILE_PATH=\"C:/Users/chola/OneDrive/Desktop\" \n",
    "#in_file = open(FILE_PATH+'exercise1.txt', 'r')  \n",
    "in_file = open('exercise1.txt', 'r')  \n",
    "while True:\n",
    "    line = in_file.readline()\n",
    "    if not line:\n",
    "        break\n",
    "    print(line)\n",
    "in_file.close()"
   ]
  },
  {
   "cell_type": "code",
   "execution_count": null,
   "metadata": {},
   "outputs": [],
   "source": [
    "\n"
   ]
  },
  {
   "cell_type": "markdown",
   "metadata": {},
   "source": [
    "### Exercise 4\n",
    "Read line number 4 from the file, <b>exercise1.txt</b>."
   ]
  },
  {
   "cell_type": "code",
   "execution_count": 6,
   "metadata": {},
   "outputs": [
    {
     "name": "stdout",
     "output_type": "stream",
     "text": [
      "Like a diamond in the sky.\n",
      "\n"
     ]
    }
   ],
   "source": [
    "#FILE_PATH=\"C:/Users/chola/OneDrive/Desktop\" \n",
    "#in_file = open(FILE_PATH+'exercise1.txt', 'r')  \n",
    "in_file = open('exercise1.txt', 'r')  \n",
    "line = in_file.readlines()\n",
    "#print(line) #whole list\n",
    "print(line[3])\n",
    "in_file.close()"
   ]
  },
  {
   "cell_type": "code",
   "execution_count": null,
   "metadata": {},
   "outputs": [],
   "source": []
  },
  {
   "cell_type": "markdown",
   "metadata": {},
   "source": [
    "### Exercise 5\n",
    "Write a program that asks the user for a number and a file name, then prints out the number from 1 to that number, one one each line to a file named using user's input.\n",
    "Then, read that file and print out its content."
   ]
  },
  {
   "cell_type": "code",
   "execution_count": 19,
   "metadata": {},
   "outputs": [
    {
     "name": "stdout",
     "output_type": "stream",
     "text": [
      "Please enter a number: 6\n",
      "Enter a file name: test\n",
      "1\n",
      "2\n",
      "3\n",
      "4\n",
      "5\n",
      "6\n"
     ]
    }
   ],
   "source": [
    "num=int(input(\"Please enter a number: \"))\n",
    "fileName=input(\"Enter a file name: \")\n",
    "fn=fileName+\".txt\"\n",
    "in_file = open(fn, 'w+')  \n",
    " \n",
    "i=1\n",
    "while i<= num:\n",
    "    #print (i)\n",
    "    in_file.write(str(i)+\"\\n\")\n",
    "    i+=1\n",
    "in_file.seek(0)\n",
    "data=in_file.read()\n",
    "for line in data:\n",
    "    print(line, end='')\n",
    "in_file.close()"
   ]
  },
  {
   "cell_type": "code",
   "execution_count": null,
   "metadata": {},
   "outputs": [],
   "source": []
  },
  {
   "cell_type": "markdown",
   "metadata": {},
   "source": [
    "### Exercise 6\n",
    "Merge a file from exercise 5 and <b>exercise1.txt</b> to a file called <b>merged.txt</b>. Then, prin out the content of <b>merged.txt</b> before closing the file."
   ]
  },
  {
   "cell_type": "code",
   "execution_count": 24,
   "metadata": {},
   "outputs": [
    {
     "name": "stdout",
     "output_type": "stream",
     "text": [
      "Twinkle, twinkle, little star,\n",
      "\n",
      "How I wonder what you are.\n",
      "\n",
      "Up above the world so high,\n",
      "\n",
      "Like a diamond in the sky.\n",
      "\n",
      "Twinkle, twinkle, little star,\n",
      "\n",
      "How I wonder what you are.\n",
      "\n",
      "1\n",
      "\n",
      "2\n",
      "\n",
      "3\n",
      "\n",
      "4\n",
      "\n",
      "5\n",
      "\n",
      "6\n",
      "\n"
     ]
    }
   ],
   "source": [
    "in_file1 = open('exercise1.txt', 'r')  \n",
    "merged_file = open('merged.txt', 'w+') \n",
    "while True:\n",
    "    line = in_file1.readline()\n",
    "    if not line:\n",
    "        break\n",
    "    #print(line)\n",
    "    merged_file.write(line+\"\\n\")\n",
    "in_file1.close()\n",
    "in_file2 = open(fn, 'r')  \n",
    "while True:\n",
    "    line = in_file2.readline()\n",
    "    if not line:\n",
    "        break\n",
    "    #print(line)\n",
    "    merged_file.write(line+\"\\n\")\n",
    "in_file2.close()\n",
    "merged_file.seek(0)\n",
    "data=merged_file.read()\n",
    "for line in data:\n",
    "    print(line, end='')\n",
    "merged_file.close()"
   ]
  },
  {
   "cell_type": "code",
   "execution_count": null,
   "metadata": {},
   "outputs": [],
   "source": []
  }
 ],
 "metadata": {
  "kernelspec": {
   "display_name": "Python 3 (ipykernel)",
   "language": "python",
   "name": "python3"
  },
  "language_info": {
   "codemirror_mode": {
    "name": "ipython",
    "version": 3
   },
   "file_extension": ".py",
   "mimetype": "text/x-python",
   "name": "python",
   "nbconvert_exporter": "python",
   "pygments_lexer": "ipython3",
   "version": "3.11.5"
  }
 },
 "nbformat": 4,
 "nbformat_minor": 4
}
